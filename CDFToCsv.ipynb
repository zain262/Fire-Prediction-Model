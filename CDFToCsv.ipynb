{
  "nbformat": 4,
  "nbformat_minor": 0,
  "metadata": {
    "colab": {
      "provenance": []
    },
    "kernelspec": {
      "name": "python3",
      "display_name": "Python 3"
    },
    "language_info": {
      "name": "python"
    }
  },
  "cells": [
    {
      "cell_type": "markdown",
      "source": [
        "Given a folder full of netCDF data user should be able to covert it all to a csv excel file.\n",
        "\n",
        "Reference github:\n",
        "https://github.com/pydata/xarray/issues/2887"
      ],
      "metadata": {
        "id": "l96WhKtdDCbt"
      }
    },
    {
      "cell_type": "code",
      "execution_count": null,
      "metadata": {
        "id": "xBgB81jTzi_-"
      },
      "outputs": [],
      "source": [
        "import zipfile\n",
        "\n",
        "# Import data\n",
        "\n",
        "#Unzip the file\n",
        "zip_ref = zipfile.ZipFile(\"/content/OneDrive_2024-03-12 (3).zip\", \"r\")\n",
        "zip_ref.extractall()\n",
        "zip_ref.close()"
      ]
    },
    {
      "cell_type": "code",
      "source": [
        "import os\n",
        "import xarray as xr\n",
        "import pandas as pd\n",
        "\n",
        "#Given a folder with NetCDF this converts them all into one big csv file\n",
        "\n",
        "\n",
        "# Directory containing the NetCDF files\n",
        "input_directory = '/content/Non Fire Data'\n",
        "\n",
        "# Output CSV file\n",
        "output_csv = 'out.csv'\n",
        "\n",
        "# Initialize an empty DataFrame to store all data\n",
        "all_data = pd.DataFrame()\n",
        "\n",
        "# Iterate through each file in the directory\n",
        "for filename in os.listdir(input_directory):\n",
        "    if filename.endswith('.nc'):\n",
        "        # Open the file if it ends with .nc (is a netCDF file)\n",
        "        ds = xr.open_dataset(os.path.join(input_directory, filename))\n",
        "\n",
        "        # Convert the netCDF content to a datafraem\n",
        "        df = ds.to_dataframe()\n",
        "\n",
        "        # Add the data to the dataframe\n",
        "        all_data = all_data.append(df)\n",
        "\n",
        "# Save the combined DataFrame to a CSV file\n",
        "all_data.to_csv(output_csv)\n"
      ],
      "metadata": {
        "id": "QtxQUu1g1Vu5",
        "colab": {
          "base_uri": "https://localhost:8080/"
        },
        "outputId": "d2559ba4-542b-415e-e4cf-f7b09a0200c0"
      },
      "execution_count": null,
      "outputs": [
        {
          "output_type": "stream",
          "name": "stderr",
          "text": [
            "<ipython-input-2-681ae3f1d258>:24: FutureWarning: The frame.append method is deprecated and will be removed from pandas in a future version. Use pandas.concat instead.\n",
            "  all_data = all_data.append(df)\n",
            "<ipython-input-2-681ae3f1d258>:24: FutureWarning: The frame.append method is deprecated and will be removed from pandas in a future version. Use pandas.concat instead.\n",
            "  all_data = all_data.append(df)\n",
            "<ipython-input-2-681ae3f1d258>:24: FutureWarning: The frame.append method is deprecated and will be removed from pandas in a future version. Use pandas.concat instead.\n",
            "  all_data = all_data.append(df)\n",
            "<ipython-input-2-681ae3f1d258>:24: FutureWarning: The frame.append method is deprecated and will be removed from pandas in a future version. Use pandas.concat instead.\n",
            "  all_data = all_data.append(df)\n",
            "<ipython-input-2-681ae3f1d258>:24: FutureWarning: The frame.append method is deprecated and will be removed from pandas in a future version. Use pandas.concat instead.\n",
            "  all_data = all_data.append(df)\n",
            "<ipython-input-2-681ae3f1d258>:24: FutureWarning: The frame.append method is deprecated and will be removed from pandas in a future version. Use pandas.concat instead.\n",
            "  all_data = all_data.append(df)\n",
            "<ipython-input-2-681ae3f1d258>:24: FutureWarning: The frame.append method is deprecated and will be removed from pandas in a future version. Use pandas.concat instead.\n",
            "  all_data = all_data.append(df)\n",
            "<ipython-input-2-681ae3f1d258>:24: FutureWarning: The frame.append method is deprecated and will be removed from pandas in a future version. Use pandas.concat instead.\n",
            "  all_data = all_data.append(df)\n",
            "<ipython-input-2-681ae3f1d258>:24: FutureWarning: The frame.append method is deprecated and will be removed from pandas in a future version. Use pandas.concat instead.\n",
            "  all_data = all_data.append(df)\n",
            "<ipython-input-2-681ae3f1d258>:24: FutureWarning: The frame.append method is deprecated and will be removed from pandas in a future version. Use pandas.concat instead.\n",
            "  all_data = all_data.append(df)\n",
            "<ipython-input-2-681ae3f1d258>:24: FutureWarning: The frame.append method is deprecated and will be removed from pandas in a future version. Use pandas.concat instead.\n",
            "  all_data = all_data.append(df)\n",
            "<ipython-input-2-681ae3f1d258>:24: FutureWarning: The frame.append method is deprecated and will be removed from pandas in a future version. Use pandas.concat instead.\n",
            "  all_data = all_data.append(df)\n",
            "<ipython-input-2-681ae3f1d258>:24: FutureWarning: The frame.append method is deprecated and will be removed from pandas in a future version. Use pandas.concat instead.\n",
            "  all_data = all_data.append(df)\n",
            "<ipython-input-2-681ae3f1d258>:24: FutureWarning: The frame.append method is deprecated and will be removed from pandas in a future version. Use pandas.concat instead.\n",
            "  all_data = all_data.append(df)\n",
            "<ipython-input-2-681ae3f1d258>:24: FutureWarning: The frame.append method is deprecated and will be removed from pandas in a future version. Use pandas.concat instead.\n",
            "  all_data = all_data.append(df)\n",
            "<ipython-input-2-681ae3f1d258>:24: FutureWarning: The frame.append method is deprecated and will be removed from pandas in a future version. Use pandas.concat instead.\n",
            "  all_data = all_data.append(df)\n",
            "<ipython-input-2-681ae3f1d258>:24: FutureWarning: The frame.append method is deprecated and will be removed from pandas in a future version. Use pandas.concat instead.\n",
            "  all_data = all_data.append(df)\n",
            "<ipython-input-2-681ae3f1d258>:24: FutureWarning: The frame.append method is deprecated and will be removed from pandas in a future version. Use pandas.concat instead.\n",
            "  all_data = all_data.append(df)\n",
            "<ipython-input-2-681ae3f1d258>:24: FutureWarning: The frame.append method is deprecated and will be removed from pandas in a future version. Use pandas.concat instead.\n",
            "  all_data = all_data.append(df)\n",
            "<ipython-input-2-681ae3f1d258>:24: FutureWarning: The frame.append method is deprecated and will be removed from pandas in a future version. Use pandas.concat instead.\n",
            "  all_data = all_data.append(df)\n",
            "<ipython-input-2-681ae3f1d258>:24: FutureWarning: The frame.append method is deprecated and will be removed from pandas in a future version. Use pandas.concat instead.\n",
            "  all_data = all_data.append(df)\n",
            "<ipython-input-2-681ae3f1d258>:24: FutureWarning: The frame.append method is deprecated and will be removed from pandas in a future version. Use pandas.concat instead.\n",
            "  all_data = all_data.append(df)\n",
            "<ipython-input-2-681ae3f1d258>:24: FutureWarning: The frame.append method is deprecated and will be removed from pandas in a future version. Use pandas.concat instead.\n",
            "  all_data = all_data.append(df)\n",
            "<ipython-input-2-681ae3f1d258>:24: FutureWarning: The frame.append method is deprecated and will be removed from pandas in a future version. Use pandas.concat instead.\n",
            "  all_data = all_data.append(df)\n",
            "<ipython-input-2-681ae3f1d258>:24: FutureWarning: The frame.append method is deprecated and will be removed from pandas in a future version. Use pandas.concat instead.\n",
            "  all_data = all_data.append(df)\n",
            "<ipython-input-2-681ae3f1d258>:24: FutureWarning: The frame.append method is deprecated and will be removed from pandas in a future version. Use pandas.concat instead.\n",
            "  all_data = all_data.append(df)\n",
            "<ipython-input-2-681ae3f1d258>:24: FutureWarning: The frame.append method is deprecated and will be removed from pandas in a future version. Use pandas.concat instead.\n",
            "  all_data = all_data.append(df)\n",
            "<ipython-input-2-681ae3f1d258>:24: FutureWarning: The frame.append method is deprecated and will be removed from pandas in a future version. Use pandas.concat instead.\n",
            "  all_data = all_data.append(df)\n",
            "<ipython-input-2-681ae3f1d258>:24: FutureWarning: The frame.append method is deprecated and will be removed from pandas in a future version. Use pandas.concat instead.\n",
            "  all_data = all_data.append(df)\n",
            "<ipython-input-2-681ae3f1d258>:24: FutureWarning: The frame.append method is deprecated and will be removed from pandas in a future version. Use pandas.concat instead.\n",
            "  all_data = all_data.append(df)\n",
            "<ipython-input-2-681ae3f1d258>:24: FutureWarning: The frame.append method is deprecated and will be removed from pandas in a future version. Use pandas.concat instead.\n",
            "  all_data = all_data.append(df)\n",
            "<ipython-input-2-681ae3f1d258>:24: FutureWarning: The frame.append method is deprecated and will be removed from pandas in a future version. Use pandas.concat instead.\n",
            "  all_data = all_data.append(df)\n",
            "<ipython-input-2-681ae3f1d258>:24: FutureWarning: The frame.append method is deprecated and will be removed from pandas in a future version. Use pandas.concat instead.\n",
            "  all_data = all_data.append(df)\n",
            "<ipython-input-2-681ae3f1d258>:24: FutureWarning: The frame.append method is deprecated and will be removed from pandas in a future version. Use pandas.concat instead.\n",
            "  all_data = all_data.append(df)\n",
            "<ipython-input-2-681ae3f1d258>:24: FutureWarning: The frame.append method is deprecated and will be removed from pandas in a future version. Use pandas.concat instead.\n",
            "  all_data = all_data.append(df)\n",
            "<ipython-input-2-681ae3f1d258>:24: FutureWarning: The frame.append method is deprecated and will be removed from pandas in a future version. Use pandas.concat instead.\n",
            "  all_data = all_data.append(df)\n",
            "<ipython-input-2-681ae3f1d258>:24: FutureWarning: The frame.append method is deprecated and will be removed from pandas in a future version. Use pandas.concat instead.\n",
            "  all_data = all_data.append(df)\n",
            "<ipython-input-2-681ae3f1d258>:24: FutureWarning: The frame.append method is deprecated and will be removed from pandas in a future version. Use pandas.concat instead.\n",
            "  all_data = all_data.append(df)\n",
            "<ipython-input-2-681ae3f1d258>:24: FutureWarning: The frame.append method is deprecated and will be removed from pandas in a future version. Use pandas.concat instead.\n",
            "  all_data = all_data.append(df)\n",
            "<ipython-input-2-681ae3f1d258>:24: FutureWarning: The frame.append method is deprecated and will be removed from pandas in a future version. Use pandas.concat instead.\n",
            "  all_data = all_data.append(df)\n",
            "<ipython-input-2-681ae3f1d258>:24: FutureWarning: The frame.append method is deprecated and will be removed from pandas in a future version. Use pandas.concat instead.\n",
            "  all_data = all_data.append(df)\n",
            "<ipython-input-2-681ae3f1d258>:24: FutureWarning: The frame.append method is deprecated and will be removed from pandas in a future version. Use pandas.concat instead.\n",
            "  all_data = all_data.append(df)\n",
            "<ipython-input-2-681ae3f1d258>:24: FutureWarning: The frame.append method is deprecated and will be removed from pandas in a future version. Use pandas.concat instead.\n",
            "  all_data = all_data.append(df)\n",
            "<ipython-input-2-681ae3f1d258>:24: FutureWarning: The frame.append method is deprecated and will be removed from pandas in a future version. Use pandas.concat instead.\n",
            "  all_data = all_data.append(df)\n",
            "<ipython-input-2-681ae3f1d258>:24: FutureWarning: The frame.append method is deprecated and will be removed from pandas in a future version. Use pandas.concat instead.\n",
            "  all_data = all_data.append(df)\n",
            "<ipython-input-2-681ae3f1d258>:24: FutureWarning: The frame.append method is deprecated and will be removed from pandas in a future version. Use pandas.concat instead.\n",
            "  all_data = all_data.append(df)\n",
            "<ipython-input-2-681ae3f1d258>:24: FutureWarning: The frame.append method is deprecated and will be removed from pandas in a future version. Use pandas.concat instead.\n",
            "  all_data = all_data.append(df)\n",
            "<ipython-input-2-681ae3f1d258>:24: FutureWarning: The frame.append method is deprecated and will be removed from pandas in a future version. Use pandas.concat instead.\n",
            "  all_data = all_data.append(df)\n",
            "<ipython-input-2-681ae3f1d258>:24: FutureWarning: The frame.append method is deprecated and will be removed from pandas in a future version. Use pandas.concat instead.\n",
            "  all_data = all_data.append(df)\n",
            "<ipython-input-2-681ae3f1d258>:24: FutureWarning: The frame.append method is deprecated and will be removed from pandas in a future version. Use pandas.concat instead.\n",
            "  all_data = all_data.append(df)\n"
          ]
        }
      ]
    }
  ]
}